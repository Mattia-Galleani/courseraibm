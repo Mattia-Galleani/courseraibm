{
 "cells": [
  {
   "cell_type": "markdown",
   "id": "2745c703-7471-4ffb-b4e8-dce28dd6129b",
   "metadata": {},
   "source": [
    "# Data Science Tools and Ecosystem"
   ]
  },
  {
   "cell_type": "markdown",
   "id": "2cfda7e6-9e85-438a-b871-6fdb7e053c03",
   "metadata": {},
   "source": [
    "## Author\n",
    "Mattia Galleani"
   ]
  },
  {
   "cell_type": "markdown",
   "id": "055e42c1-6927-4935-971e-89cf6d398049",
   "metadata": {},
   "source": [
    "In this notebook, Data Science Tools and Ecosystem are summarized."
   ]
  },
  {
   "cell_type": "markdown",
   "id": "eceae884-b6dc-4f77-b969-46b65138ee81",
   "metadata": {},
   "source": [
    "**Objectives:**\n",
    "+ List tools for Data Science\n",
    "+ List languages for Data Science\n",
    "+ Practice Jupyter Notebooks\n",
    "+ Practice Markdown notation"
   ]
  },
  {
   "cell_type": "markdown",
   "id": "05227e0f-9d11-475a-9b99-e4fb8bf28240",
   "metadata": {},
   "source": [
    "Some of the popular languages that Data Scientists use are:\n",
    "1. Python\n",
    "2. R\n",
    "3. Scala\n",
    "4. Julia\n",
    "5. SQL\n",
    "6. ..."
   ]
  },
  {
   "cell_type": "markdown",
   "id": "537e288e-a11d-49bc-b182-1bf3e4aafb87",
   "metadata": {},
   "source": [
    "Some of the commonly used libraries used by Data Scientists include:\n",
    "1. pandas (Python)\n",
    "2. numpy (Python)\n",
    "3. ggplot (R)\n",
    "4. ..."
   ]
  },
  {
   "cell_type": "markdown",
   "id": "7067591e-4d5e-4fc3-8b40-a6a682b763c3",
   "metadata": {},
   "source": [
    "| Data Science Tools |\n",
    "|------|\n",
    "| Apache Hadoop | \n",
    "| Jupyter Notebooks (Jupyter Lab, Google Colab....)|\n",
    "| Knime |\n",
    "| Node-red |"
   ]
  },
  {
   "cell_type": "markdown",
   "id": "cc96c62a-d35d-4ffb-b81c-a7a2c19df87f",
   "metadata": {},
   "source": [
    "Below are a few examples of evaluating arithmetic expressions in Python \\\n",
    "Linear equation: $ y = m \\cdot x + q $ \\\n",
    "Simple fraction : $ a^3\\over {b + c} $ \\\n",
    "Logarithms and exponentials: $ log_b (c) + e^{3+l} = $"
   ]
  },
  {
   "cell_type": "markdown",
   "id": "54ace5b9-a3eb-486b-a851-3b04c46006fd",
   "metadata": {},
   "source": [
    " This a simple arithmetic expression to mutiply then add integers"
   ]
  },
  {
   "cell_type": "code",
   "execution_count": 4,
   "id": "b2546b23-40fa-4bff-8570-33a5502e8a2b",
   "metadata": {
    "tags": []
   },
   "outputs": [
    {
     "data": {
      "text/plain": [
       "17"
      ]
     },
     "execution_count": 4,
     "metadata": {},
     "output_type": "execute_result"
    }
   ],
   "source": [
    "(3*4)+5"
   ]
  },
  {
   "cell_type": "code",
   "execution_count": 6,
   "id": "b2e732e1-9eb3-4ae1-a44b-42f9f93d34c3",
   "metadata": {
    "tags": []
   },
   "outputs": [
    {
     "data": {
      "text/plain": [
       "3.3333333333333335"
      ]
     },
     "execution_count": 6,
     "metadata": {},
     "output_type": "execute_result"
    }
   ],
   "source": [
    "200/60"
   ]
  }
 ],
 "metadata": {
  "kernelspec": {
   "display_name": "Python",
   "language": "python",
   "name": "conda-env-python-py"
  },
  "language_info": {
   "codemirror_mode": {
    "name": "ipython",
    "version": 3
   },
   "file_extension": ".py",
   "mimetype": "text/x-python",
   "name": "python",
   "nbconvert_exporter": "python",
   "pygments_lexer": "ipython3",
   "version": "3.7.12"
  }
 },
 "nbformat": 4,
 "nbformat_minor": 5
}
